{
  "nbformat": 4,
  "nbformat_minor": 0,
  "metadata": {
    "colab": {
      "name": "Calculator.ipynb",
      "provenance": [],
      "collapsed_sections": [],
      "include_colab_link": true
    },
    "kernelspec": {
      "name": "python3",
      "display_name": "Python 3"
    }
  },
  "cells": [
    {
      "cell_type": "markdown",
      "metadata": {
        "id": "view-in-github",
        "colab_type": "text"
      },
      "source": [
        "<a href=\"https://colab.research.google.com/github/hl533/IS601-CalculatorProject/blob/master/Calculator.ipynb\" target=\"_parent\"><img src=\"https://colab.research.google.com/assets/colab-badge.svg\" alt=\"Open In Colab\"/></a>"
      ]
    },
    {
      "cell_type": "code",
      "metadata": {
        "id": "90EUOhFVpKG-",
        "colab_type": "code",
        "colab": {
          "base_uri": "https://localhost:8080/",
          "height": 34
        },
        "outputId": "11f6e3e4-3a1a-477e-bc1e-45a4813416cb"
      },
      "source": [
        "from google.colab import drive\n",
        "drive.mount('/content/drive')"
      ],
      "execution_count": 40,
      "outputs": [
        {
          "output_type": "stream",
          "text": [
            "Drive already mounted at /content/drive; to attempt to forcibly remount, call drive.mount(\"/content/drive\", force_remount=True).\n"
          ],
          "name": "stdout"
        }
      ]
    },
    {
      "cell_type": "code",
      "metadata": {
        "id": "Azu-NPVhtz3k",
        "colab_type": "code",
        "colab": {}
      },
      "source": [
        "def addition(a, b):\n",
        "    return a + b\n",
        "\n",
        "def subtraction(a, b):\n",
        "    return a - b\n",
        "\n",
        "\n",
        "class Calculator:\n",
        "    result = 0\n",
        "\n",
        "    def __init__(self):\n",
        "        pass\n",
        "\n",
        "    def add(self, a, b):\n",
        "        self.result = addition(a, b)\n",
        "        return self.result\n",
        "\n",
        "    def subtract(self, a, b):\n",
        "        self.result = subtraction(a, b)\n",
        "        return self.result"
      ],
      "execution_count": 0,
      "outputs": []
    },
    {
      "cell_type": "code",
      "metadata": {
        "id": "b6Vxv0oguG-v",
        "colab_type": "code",
        "colab": {
          "base_uri": "https://localhost:8080/",
          "height": 102
        },
        "outputId": "5198e9af-9c94-49a8-e483-a4f7e3f134ce"
      },
      "source": [
        "import unittest\n",
        "\n",
        "class MyTestCase(unittest.TestCase):\n",
        "\n",
        "    def setUp(self) -> None:\n",
        "        calculator = Calculator()\n",
        "\n",
        "\n",
        "    def test_instantiate_calculator(self):\n",
        "        calculator = Calculator()\n",
        "        self.assertIsInstance(calculator, Calculator)\n",
        "\n",
        "    def test_results_property_calculator(self):\n",
        "        calculator = Calculator()\n",
        "        self.assertEqual(calculator.result, 0)\n",
        "    \n",
        "    def test_add_method_calculator(self):\n",
        "        calculator = Calculator()\n",
        "        self.assertEqual(calculator.add(2, 2), 4)\n",
        "        self.assertEqual(calculator.result, 4)\n",
        "\n",
        "    def test_subtract_method_calculator(self):\n",
        "        calculator = Calculator()\n",
        "        self.assertEqual(calculator.subtract(2, 2), 0)\n",
        "        self.assertEqual(calculator.result, 0)\n",
        "\n",
        "if __name__ == '__main__':\n",
        "  unittest.main(argv=['first-arg-is-ignored'], exit=False)\n"
      ],
      "execution_count": 67,
      "outputs": [
        {
          "output_type": "stream",
          "text": [
            "....\n",
            "----------------------------------------------------------------------\n",
            "Ran 4 tests in 0.005s\n",
            "\n",
            "OK\n"
          ],
          "name": "stderr"
        }
      ]
    }
  ]
}